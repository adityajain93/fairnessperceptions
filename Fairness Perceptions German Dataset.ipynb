{
 "cells": [
  {
   "cell_type": "markdown",
   "metadata": {},
   "source": [
    "The following file has been adapted from a Kaggle Kernel and can be found at the link\n",
    "\n",
    "https://www.kaggle.com/hendraherviawan/predicting-german-credit-default#"
   ]
  },
  {
   "cell_type": "code",
   "execution_count": 39,
   "metadata": {
    "_uuid": "fa1b3ac82eb8fe1b02d69fab3a10b621f1392484",
    "id": "UQUQbCn-LIjR"
   },
   "outputs": [],
   "source": [
    "#Importing necessary packages in Python \n",
    "%matplotlib inline \n",
    "import matplotlib.pyplot as plt \n",
    "\n",
    "import numpy as np ; np.random.seed(sum(map(ord, \"aesthetics\")))\n",
    "import pandas as pd\n",
    "from collections import defaultdict\n",
    "\n",
    "\n",
    "from sklearn.datasets import make_classification \n",
    "from sklearn.model_selection import learning_curve\n",
    "#from sklearn.cross_validation import train_test_split \n",
    "#from sklearn.grid_search import GridSearchCV\n",
    "#from sklearn.cross_validation import ShuffleSplit\n",
    "from sklearn.metrics import classification_report,confusion_matrix, roc_curve, roc_auc_score, auc, accuracy_score\n",
    "from sklearn.model_selection import ShuffleSplit,train_test_split, cross_val_score, GridSearchCV\n",
    "from sklearn.preprocessing import OneHotEncoder, LabelEncoder, label_binarize, StandardScaler, MinMaxScaler\n",
    "\n",
    "import seaborn \n",
    "seaborn.set_context('notebook') \n",
    "seaborn.set_style(style='darkgrid')\n",
    "\n",
    "from pprint import pprint \n",
    " \n"
   ]
  },
  {
   "cell_type": "markdown",
   "metadata": {
    "_uuid": "e53977fea8ba2969bb815820b810ae0798f79ff3",
    "id": "HvfBj0KiBC1m"
   },
   "source": [
    "### Evaluation Function\n"
   ]
  },
  {
   "cell_type": "code",
   "execution_count": 2,
   "metadata": {
    "_uuid": "ad532098b4568aab69e710aa1b73097b0aeaa56a",
    "id": "Y5FAGSW_K_il"
   },
   "outputs": [],
   "source": [
    "# Function for evaluation reports\n",
    "def get_eval1(clf, X,y):\n",
    "    # Cross Validation to test and anticipate overfitting problem\n",
    "    scores1 = cross_val_score(clf, X, y, cv=2, scoring='accuracy')\n",
    "    scores2 = cross_val_score(clf, X, y, cv=2, scoring='precision')\n",
    "    scores3 = cross_val_score(clf, X, y, cv=2, scoring='recall')\n",
    "    scores4 = cross_val_score(clf, X, y, cv=2, scoring='roc_auc')\n",
    "    \n",
    "    # The mean score and standard deviation of the score estimate\n",
    "    print(\"Cross Validation Accuracy: %0.2f (+/- %0.2f)\" % (scores1.mean(), scores1.std()))\n",
    "    print(\"Cross Validation Precision: %0.2f (+/- %0.2f)\" % (scores2.mean(), scores2.std()))\n",
    "    print(\"Cross Validation Recall: %0.2f (+/- %0.2f)\" % (scores3.mean(), scores3.std()))\n",
    "    print(\"Cross Validation roc_auc: %0.2f (+/- %0.2f)\" % (scores4.mean(), scores4.std()))\n",
    "    \n",
    "    return \n",
    "\n",
    "def get_eval2(clf, X_train, y_train,X_test, y_test):\n",
    "    # Cross Validation to test and anticipate overfitting problem\n",
    "    scores1 = cross_val_score(clf, X_test, y_test, cv=2, scoring='accuracy')\n",
    "    scores2 = cross_val_score(clf, X_test, y_test, cv=2, scoring='precision')\n",
    "    scores3 = cross_val_score(clf, X_test, y_test, cv=2, scoring='recall')\n",
    "    scores4 = cross_val_score(clf, X_test, y_test, cv=2, scoring='roc_auc')\n",
    "    \n",
    "    # The mean score and standard deviation of the score estimate\n",
    "    print(\"Cross Validation Accuracy: %0.2f (+/- %0.2f)\" % (scores1.mean(), scores1.std()))\n",
    "    print(\"Cross Validation Precision: %0.2f (+/- %0.2f)\" % (scores2.mean(), scores2.std()))\n",
    "    print(\"Cross Validation Recall: %0.2f (+/- %0.2f)\" % (scores3.mean(), scores3.std()))\n",
    "    print(\"Cross Validation roc_auc: %0.2f (+/- %0.2f)\" % (scores4.mean(), scores4.std()))\n",
    "    \n",
    "    return  \n",
    "  \n",
    "# Function to get roc curve\n",
    "def get_roc (y_test,y_pred):\n",
    "    # Compute ROC curve and ROC area for each class\n",
    "    fpr = dict()\n",
    "    tpr = dict()\n",
    "    roc_auc = dict()\n",
    "    fpr, tpr, _ = roc_curve(y_test, y_pred)\n",
    "    roc_auc = auc(fpr, tpr)\n",
    "    #Plot of a ROC curve\n",
    "    plt.figure()\n",
    "    lw = 2\n",
    "    plt.plot(fpr, tpr, color='darkorange',\n",
    "             label='ROC curve (area = %0.2f)' % roc_auc)\n",
    "    plt.plot([0, 1], [0, 1], color='navy', lw=lw, linestyle='--')\n",
    "    plt.xlim([0.0, 1.0])\n",
    "    plt.ylim([0.0, 1.0])\n",
    "    plt.xlabel('False Positive Rate')\n",
    "    plt.ylabel('True Positive Rate')\n",
    "    plt.title('Receiver operating characteristic')\n",
    "    plt.legend(loc=\"upper left\")\n",
    "    plt.show()\n",
    "    return\n"
   ]
  },
  {
   "cell_type": "markdown",
   "metadata": {
    "_uuid": "148a2b3cfebaac7674b5bb78496d1cf0266a26cf",
    "id": "ktQtae8aBGPQ"
   },
   "source": [
    "#### XGBoost Model"
   ]
  },
  {
   "cell_type": "code",
   "execution_count": 3,
   "metadata": {
    "_uuid": "a7b80d642ccc18e23b9a0ece9c7f57eca3c67cfd",
    "id": "qOM2Y0A8CGN8"
   },
   "outputs": [],
   "source": [
    "import warnings\n",
    "warnings.filterwarnings(\"ignore\", category=DeprecationWarning) \n",
    "\n",
    "import xgboost as xgb\n",
    "from xgboost import XGBClassifier\n",
    "#print('XGBoost v',xgb.__version__)\n",
    "\n",
    "# fit, train and cross validate Decision Tree with training and test data \n",
    "def xgbclf(params, X_train, y_train,X_test, y_test):\n",
    "  \n",
    "    eval_set=[(X_train, y_train), (X_test, y_test)]\n",
    "    \n",
    "    model = XGBClassifier(**params).\\\n",
    "      fit(X_train, y_train, eval_set=eval_set, \\\n",
    "                  eval_metric='auc', early_stopping_rounds = 100, verbose=100)\n",
    "        \n",
    "    #print(model.best_ntree_limit)\n",
    "\n",
    "    model.set_params(**{'n_estimators': model.best_ntree_limit})\n",
    "    model.fit(X_train, y_train)\n",
    "    #print(model,'\\n')\n",
    "    \n",
    "    # Predict target variables y for test data\n",
    "    y_pred = model.predict(X_test, ntree_limit=model.best_ntree_limit) #model.best_iteration\n",
    "    #print(y_pred)\n",
    "   \n",
    "    # Get Cross Validation and Confusion matrix\n",
    "    #get_eval(model, X_train, y_train)\n",
    "    #get_eval2(model, X_train, y_train,X_test, y_test)\n",
    "    \n",
    "    # Create and print confusion matrix    \n",
    "    abclf_cm = confusion_matrix(y_test,y_pred)\n",
    "    print(abclf_cm)\n",
    "    \n",
    "    #y_pred = model.predict(X_test)\n",
    "    print (classification_report(y_test,y_pred) )\n",
    "    print ('\\n')\n",
    "    print (\"Model Final Generalization Accuracy: %.6f\" %accuracy_score(y_test,y_pred) )\n",
    "    \n",
    "    # Predict probabilities target variables y for test data\n",
    "    y_pred_proba = model.predict_proba(X_test, ntree_limit=model.best_ntree_limit)[:,1] #model.best_iteration\n",
    "    get_roc (y_test,y_pred_proba)\n",
    "    return model\n",
    "\n",
    "def plot_featureImportance(model, keys):\n",
    "  importances = model.feature_importances_\n",
    "\n",
    "  importance_frame = pd.DataFrame({'Importance': list(importances), 'Feature': list(keys)})\n",
    "  importance_frame.sort_values(by = 'Importance', inplace = True)\n",
    "  importance_frame.tail(10).plot(kind = 'barh', x = 'Feature', figsize = (8,8), color = 'orange')"
   ]
  },
  {
   "cell_type": "markdown",
   "metadata": {
    "_uuid": "2e8d5ce5e9daf39d851ca53856f640a90156745a",
    "id": "b9VmiiUDCvRV"
   },
   "source": [
    "<a id=\"Preprocess\"></a> <br>\n",
    "# **2. Preprocess** \n",
    "- Importing Dataset\n",
    "- StandardScaler\n",
    "- Encoding Categorical Feature\n",
    "- Concate Transformed Dataset\n",
    "- Split Training Dataset\n",
    "- XGBoost  1a: Unbalance Dataset (Base Model: ROC_AUC:0.74)\n",
    "- XGBoost  1b: Unbalance Dataset (ROC_AUC:0.79)"
   ]
  },
  {
   "cell_type": "markdown",
   "metadata": {
    "_uuid": "366cfb21b371f12c5bbf005342de219717fde974",
    "id": "L4G0iMwfKb4J"
   },
   "source": [
    "### Import Dataset\n",
    "\n",
    "OK let's get started. We'll download the data from the UCI website."
   ]
  },
  {
   "cell_type": "code",
   "execution_count": 52,
   "metadata": {
    "_uuid": "4807a2a54ddeb7ecb9142b586088ea672103d4ff",
    "executionInfo": {
     "elapsed": 768,
     "status": "ok",
     "timestamp": 1531200575113,
     "user": {
      "displayName": "M Hendra Herviawan",
      "photoUrl": "https://lh3.googleusercontent.com/a/default-user=s128",
      "userId": "116685199798904688878"
     },
     "user_tz": -420
    },
    "id": "YYgBTbPj1fbQ",
    "outputId": "d5569d76-1c4f-432a-a2b7-2b9ceb3e3439"
   },
   "outputs": [
    {
     "name": "stdout",
     "output_type": "stream",
     "text": [
      "(1000, 21)\n",
      "Index(['existingchecking', 'duration', 'credithistory', 'purpose',\n",
      "       'creditamount', 'savings', 'employmentsince', 'installmentrate',\n",
      "       'statussex', 'otherdebtors', 'residencesince', 'property', 'age',\n",
      "       'otherinstallmentplans', 'housing', 'existingcredits', 'job',\n",
      "       'peopleliable', 'telephone', 'foreignworker', 'classification'],\n",
      "      dtype='object')\n"
     ]
    },
    {
     "data": {
      "text/html": [
       "<div>\n",
       "<style scoped>\n",
       "    .dataframe tbody tr th:only-of-type {\n",
       "        vertical-align: middle;\n",
       "    }\n",
       "\n",
       "    .dataframe tbody tr th {\n",
       "        vertical-align: top;\n",
       "    }\n",
       "\n",
       "    .dataframe thead th {\n",
       "        text-align: right;\n",
       "    }\n",
       "</style>\n",
       "<table border=\"1\" class=\"dataframe\">\n",
       "  <thead>\n",
       "    <tr style=\"text-align: right;\">\n",
       "      <th></th>\n",
       "      <th>existingchecking</th>\n",
       "      <th>duration</th>\n",
       "      <th>credithistory</th>\n",
       "      <th>purpose</th>\n",
       "      <th>creditamount</th>\n",
       "      <th>savings</th>\n",
       "      <th>employmentsince</th>\n",
       "      <th>installmentrate</th>\n",
       "      <th>statussex</th>\n",
       "      <th>otherdebtors</th>\n",
       "      <th>...</th>\n",
       "      <th>property</th>\n",
       "      <th>age</th>\n",
       "      <th>otherinstallmentplans</th>\n",
       "      <th>housing</th>\n",
       "      <th>existingcredits</th>\n",
       "      <th>job</th>\n",
       "      <th>peopleliable</th>\n",
       "      <th>telephone</th>\n",
       "      <th>foreignworker</th>\n",
       "      <th>classification</th>\n",
       "    </tr>\n",
       "  </thead>\n",
       "  <tbody>\n",
       "    <tr>\n",
       "      <th>0</th>\n",
       "      <td>A11</td>\n",
       "      <td>6</td>\n",
       "      <td>A34</td>\n",
       "      <td>A43</td>\n",
       "      <td>1169</td>\n",
       "      <td>A65</td>\n",
       "      <td>A75</td>\n",
       "      <td>4</td>\n",
       "      <td>A93</td>\n",
       "      <td>A101</td>\n",
       "      <td>...</td>\n",
       "      <td>A121</td>\n",
       "      <td>67</td>\n",
       "      <td>A143</td>\n",
       "      <td>A152</td>\n",
       "      <td>2</td>\n",
       "      <td>A173</td>\n",
       "      <td>1</td>\n",
       "      <td>A192</td>\n",
       "      <td>A201</td>\n",
       "      <td>1</td>\n",
       "    </tr>\n",
       "    <tr>\n",
       "      <th>1</th>\n",
       "      <td>A12</td>\n",
       "      <td>48</td>\n",
       "      <td>A32</td>\n",
       "      <td>A43</td>\n",
       "      <td>5951</td>\n",
       "      <td>A61</td>\n",
       "      <td>A73</td>\n",
       "      <td>2</td>\n",
       "      <td>A92</td>\n",
       "      <td>A101</td>\n",
       "      <td>...</td>\n",
       "      <td>A121</td>\n",
       "      <td>22</td>\n",
       "      <td>A143</td>\n",
       "      <td>A152</td>\n",
       "      <td>1</td>\n",
       "      <td>A173</td>\n",
       "      <td>1</td>\n",
       "      <td>A191</td>\n",
       "      <td>A201</td>\n",
       "      <td>2</td>\n",
       "    </tr>\n",
       "    <tr>\n",
       "      <th>2</th>\n",
       "      <td>A14</td>\n",
       "      <td>12</td>\n",
       "      <td>A34</td>\n",
       "      <td>A46</td>\n",
       "      <td>2096</td>\n",
       "      <td>A61</td>\n",
       "      <td>A74</td>\n",
       "      <td>2</td>\n",
       "      <td>A93</td>\n",
       "      <td>A101</td>\n",
       "      <td>...</td>\n",
       "      <td>A121</td>\n",
       "      <td>49</td>\n",
       "      <td>A143</td>\n",
       "      <td>A152</td>\n",
       "      <td>1</td>\n",
       "      <td>A172</td>\n",
       "      <td>2</td>\n",
       "      <td>A191</td>\n",
       "      <td>A201</td>\n",
       "      <td>1</td>\n",
       "    </tr>\n",
       "    <tr>\n",
       "      <th>3</th>\n",
       "      <td>A11</td>\n",
       "      <td>42</td>\n",
       "      <td>A32</td>\n",
       "      <td>A42</td>\n",
       "      <td>7882</td>\n",
       "      <td>A61</td>\n",
       "      <td>A74</td>\n",
       "      <td>2</td>\n",
       "      <td>A93</td>\n",
       "      <td>A103</td>\n",
       "      <td>...</td>\n",
       "      <td>A122</td>\n",
       "      <td>45</td>\n",
       "      <td>A143</td>\n",
       "      <td>A153</td>\n",
       "      <td>1</td>\n",
       "      <td>A173</td>\n",
       "      <td>2</td>\n",
       "      <td>A191</td>\n",
       "      <td>A201</td>\n",
       "      <td>1</td>\n",
       "    </tr>\n",
       "    <tr>\n",
       "      <th>4</th>\n",
       "      <td>A11</td>\n",
       "      <td>24</td>\n",
       "      <td>A33</td>\n",
       "      <td>A40</td>\n",
       "      <td>4870</td>\n",
       "      <td>A61</td>\n",
       "      <td>A73</td>\n",
       "      <td>3</td>\n",
       "      <td>A93</td>\n",
       "      <td>A101</td>\n",
       "      <td>...</td>\n",
       "      <td>A124</td>\n",
       "      <td>53</td>\n",
       "      <td>A143</td>\n",
       "      <td>A153</td>\n",
       "      <td>2</td>\n",
       "      <td>A173</td>\n",
       "      <td>2</td>\n",
       "      <td>A191</td>\n",
       "      <td>A201</td>\n",
       "      <td>2</td>\n",
       "    </tr>\n",
       "    <tr>\n",
       "      <th>5</th>\n",
       "      <td>A14</td>\n",
       "      <td>36</td>\n",
       "      <td>A32</td>\n",
       "      <td>A46</td>\n",
       "      <td>9055</td>\n",
       "      <td>A65</td>\n",
       "      <td>A73</td>\n",
       "      <td>2</td>\n",
       "      <td>A93</td>\n",
       "      <td>A101</td>\n",
       "      <td>...</td>\n",
       "      <td>A124</td>\n",
       "      <td>35</td>\n",
       "      <td>A143</td>\n",
       "      <td>A153</td>\n",
       "      <td>1</td>\n",
       "      <td>A172</td>\n",
       "      <td>2</td>\n",
       "      <td>A192</td>\n",
       "      <td>A201</td>\n",
       "      <td>1</td>\n",
       "    </tr>\n",
       "    <tr>\n",
       "      <th>6</th>\n",
       "      <td>A14</td>\n",
       "      <td>24</td>\n",
       "      <td>A32</td>\n",
       "      <td>A42</td>\n",
       "      <td>2835</td>\n",
       "      <td>A63</td>\n",
       "      <td>A75</td>\n",
       "      <td>3</td>\n",
       "      <td>A93</td>\n",
       "      <td>A101</td>\n",
       "      <td>...</td>\n",
       "      <td>A122</td>\n",
       "      <td>53</td>\n",
       "      <td>A143</td>\n",
       "      <td>A152</td>\n",
       "      <td>1</td>\n",
       "      <td>A173</td>\n",
       "      <td>1</td>\n",
       "      <td>A191</td>\n",
       "      <td>A201</td>\n",
       "      <td>1</td>\n",
       "    </tr>\n",
       "    <tr>\n",
       "      <th>7</th>\n",
       "      <td>A12</td>\n",
       "      <td>36</td>\n",
       "      <td>A32</td>\n",
       "      <td>A41</td>\n",
       "      <td>6948</td>\n",
       "      <td>A61</td>\n",
       "      <td>A73</td>\n",
       "      <td>2</td>\n",
       "      <td>A93</td>\n",
       "      <td>A101</td>\n",
       "      <td>...</td>\n",
       "      <td>A123</td>\n",
       "      <td>35</td>\n",
       "      <td>A143</td>\n",
       "      <td>A151</td>\n",
       "      <td>1</td>\n",
       "      <td>A174</td>\n",
       "      <td>1</td>\n",
       "      <td>A192</td>\n",
       "      <td>A201</td>\n",
       "      <td>1</td>\n",
       "    </tr>\n",
       "    <tr>\n",
       "      <th>8</th>\n",
       "      <td>A14</td>\n",
       "      <td>12</td>\n",
       "      <td>A32</td>\n",
       "      <td>A43</td>\n",
       "      <td>3059</td>\n",
       "      <td>A64</td>\n",
       "      <td>A74</td>\n",
       "      <td>2</td>\n",
       "      <td>A91</td>\n",
       "      <td>A101</td>\n",
       "      <td>...</td>\n",
       "      <td>A121</td>\n",
       "      <td>61</td>\n",
       "      <td>A143</td>\n",
       "      <td>A152</td>\n",
       "      <td>1</td>\n",
       "      <td>A172</td>\n",
       "      <td>1</td>\n",
       "      <td>A191</td>\n",
       "      <td>A201</td>\n",
       "      <td>1</td>\n",
       "    </tr>\n",
       "    <tr>\n",
       "      <th>9</th>\n",
       "      <td>A12</td>\n",
       "      <td>30</td>\n",
       "      <td>A34</td>\n",
       "      <td>A40</td>\n",
       "      <td>5234</td>\n",
       "      <td>A61</td>\n",
       "      <td>A71</td>\n",
       "      <td>4</td>\n",
       "      <td>A94</td>\n",
       "      <td>A101</td>\n",
       "      <td>...</td>\n",
       "      <td>A123</td>\n",
       "      <td>28</td>\n",
       "      <td>A143</td>\n",
       "      <td>A152</td>\n",
       "      <td>2</td>\n",
       "      <td>A174</td>\n",
       "      <td>1</td>\n",
       "      <td>A191</td>\n",
       "      <td>A201</td>\n",
       "      <td>2</td>\n",
       "    </tr>\n",
       "  </tbody>\n",
       "</table>\n",
       "<p>10 rows × 21 columns</p>\n",
       "</div>"
      ],
      "text/plain": [
       "  existingchecking  duration credithistory purpose  creditamount savings  \\\n",
       "0              A11         6           A34     A43          1169     A65   \n",
       "1              A12        48           A32     A43          5951     A61   \n",
       "2              A14        12           A34     A46          2096     A61   \n",
       "3              A11        42           A32     A42          7882     A61   \n",
       "4              A11        24           A33     A40          4870     A61   \n",
       "5              A14        36           A32     A46          9055     A65   \n",
       "6              A14        24           A32     A42          2835     A63   \n",
       "7              A12        36           A32     A41          6948     A61   \n",
       "8              A14        12           A32     A43          3059     A64   \n",
       "9              A12        30           A34     A40          5234     A61   \n",
       "\n",
       "  employmentsince  installmentrate statussex otherdebtors  ...  property age  \\\n",
       "0             A75                4       A93         A101  ...      A121  67   \n",
       "1             A73                2       A92         A101  ...      A121  22   \n",
       "2             A74                2       A93         A101  ...      A121  49   \n",
       "3             A74                2       A93         A103  ...      A122  45   \n",
       "4             A73                3       A93         A101  ...      A124  53   \n",
       "5             A73                2       A93         A101  ...      A124  35   \n",
       "6             A75                3       A93         A101  ...      A122  53   \n",
       "7             A73                2       A93         A101  ...      A123  35   \n",
       "8             A74                2       A91         A101  ...      A121  61   \n",
       "9             A71                4       A94         A101  ...      A123  28   \n",
       "\n",
       "   otherinstallmentplans housing existingcredits   job peopleliable  \\\n",
       "0                   A143    A152               2  A173            1   \n",
       "1                   A143    A152               1  A173            1   \n",
       "2                   A143    A152               1  A172            2   \n",
       "3                   A143    A153               1  A173            2   \n",
       "4                   A143    A153               2  A173            2   \n",
       "5                   A143    A153               1  A172            2   \n",
       "6                   A143    A152               1  A173            1   \n",
       "7                   A143    A151               1  A174            1   \n",
       "8                   A143    A152               1  A172            1   \n",
       "9                   A143    A152               2  A174            1   \n",
       "\n",
       "   telephone foreignworker classification  \n",
       "0       A192          A201              1  \n",
       "1       A191          A201              2  \n",
       "2       A191          A201              1  \n",
       "3       A191          A201              1  \n",
       "4       A191          A201              2  \n",
       "5       A192          A201              1  \n",
       "6       A191          A201              1  \n",
       "7       A192          A201              1  \n",
       "8       A191          A201              1  \n",
       "9       A191          A201              2  \n",
       "\n",
       "[10 rows x 21 columns]"
      ]
     },
     "execution_count": 52,
     "metadata": {},
     "output_type": "execute_result"
    }
   ],
   "source": [
    "# file = 'GermanData.csv'\n",
    "file = 'german.data'\n",
    "\n",
    "url = \"http://archive.ics.uci.edu/ml/machine-learning-databases/statlog/german/german.data\"\n",
    "\n",
    "names = ['existingchecking', 'duration', 'credithistory', 'purpose', 'creditamount', \n",
    "         'savings', 'employmentsince', 'installmentrate', 'statussex', 'otherdebtors', \n",
    "         'residencesince', 'property', 'age', 'otherinstallmentplans', 'housing', \n",
    "         'existingcredits', 'job', 'peopleliable', 'telephone', 'foreignworker', 'classification']\n",
    "\n",
    "data = pd.read_csv(file,names = names, sep = \" \")\n",
    "print(data.shape)\n",
    "print (data.columns)\n",
    "data.head(10)"
   ]
  },
  {
   "cell_type": "code",
   "execution_count": 53,
   "metadata": {
    "_uuid": "224c2c3967abdccd1e4527c18024e08288ba1ca9",
    "executionInfo": {
     "elapsed": 709,
     "status": "ok",
     "timestamp": 1531189108051,
     "user": {
      "displayName": "M Hendra Herviawan",
      "photoUrl": "https://lh3.googleusercontent.com/a/default-user=s128",
      "userId": "116685199798904688878"
     },
     "user_tz": -420
    },
    "id": "B3FPJfz33xkK",
    "outputId": "9c678580-fb5a-4f2c-a788-676f3fda2d60"
   },
   "outputs": [
    {
     "data": {
      "text/plain": [
       "1    700\n",
       "0    300\n",
       "Name: classification, dtype: int64"
      ]
     },
     "execution_count": 53,
     "metadata": {},
     "output_type": "execute_result"
    }
   ],
   "source": [
    "# Binarize the y output for easier use of e.g. ROC curves -> 0 = 'bad' credit; 1 = 'good' credit\n",
    "data.classification.replace([1,2], [1,0], inplace=True)\n",
    "# Print number of 'good' credits (should be 700) and 'bad credits (should be 300)\n",
    "data.classification.value_counts()"
   ]
  },
  {
   "cell_type": "markdown",
   "metadata": {
    "_uuid": "2d2774790c3f63cfc0eaa81517ce8f0eb4680478",
    "id": "Tr1A8ZIHzuFw"
   },
   "source": [
    "### StandardScaler"
   ]
  },
  {
   "cell_type": "code",
   "execution_count": 54,
   "metadata": {
    "_uuid": "f03a76714ee08fe41f9b59aab287d68d481892b5",
    "id": "dKKUEqTo380x"
   },
   "outputs": [],
   "source": [
    "#numerical variables labels\n",
    "numvars = ['creditamount', 'duration', 'installmentrate', 'residencesince', 'age', \n",
    "           'existingcredits', 'peopleliable', 'classification']\n",
    "\n",
    "# Standardization\n",
    "numdata_std = pd.DataFrame(StandardScaler().fit_transform(data[numvars].drop(['classification'], axis=1)))"
   ]
  },
  {
   "cell_type": "markdown",
   "metadata": {
    "_uuid": "19dce81fc16194265c5d8942fa81c64934d60855",
    "id": "X4ZzfmRy4M9I"
   },
   "source": [
    "### Encoding Categorical Feature\n",
    "\n",
    "Labelencoding to transform categorical to numerical, Enables better Visualization than one hot encoding"
   ]
  },
  {
   "cell_type": "code",
   "execution_count": 55,
   "metadata": {
    "_uuid": "dab67695a0984af965a7dbea250276c4369b5875",
    "executionInfo": {
     "elapsed": 621,
     "status": "ok",
     "timestamp": 1531189110846,
     "user": {
      "displayName": "M Hendra Herviawan",
      "photoUrl": "https://lh3.googleusercontent.com/a/default-user=s128",
      "userId": "116685199798904688878"
     },
     "user_tz": -420
    },
    "id": "xSnUU8E_4IgX",
    "outputId": "4325e306-c15b-4130-ee8b-105729ccd053"
   },
   "outputs": [
    {
     "name": "stdout",
     "output_type": "stream",
     "text": [
      "existingchecking :  ['A11' 'A12' 'A14' 'A13']\n",
      "existingchecking :  [0 1 3 2]\n",
      "credithistory :  ['A34' 'A32' 'A33' 'A30' 'A31']\n",
      "credithistory :  [4 2 3 0 1]\n",
      "purpose :  ['A43' 'A46' 'A42' 'A40' 'A41' 'A49' 'A44' 'A45' 'A410' 'A48']\n",
      "purpose :  [4 7 3 0 1 9 5 6 2 8]\n",
      "savings :  ['A65' 'A61' 'A63' 'A64' 'A62']\n",
      "savings :  [4 0 2 3 1]\n",
      "employmentsince :  ['A75' 'A73' 'A74' 'A71' 'A72']\n",
      "employmentsince :  [4 2 3 0 1]\n",
      "statussex :  ['A93' 'A92' 'A91' 'A94']\n",
      "statussex :  [2 1 0 3]\n",
      "otherdebtors :  ['A101' 'A103' 'A102']\n",
      "otherdebtors :  [0 2 1]\n",
      "property :  ['A121' 'A122' 'A124' 'A123']\n",
      "property :  [0 1 3 2]\n",
      "otherinstallmentplans :  ['A143' 'A141' 'A142']\n",
      "otherinstallmentplans :  [2 0 1]\n",
      "housing :  ['A152' 'A153' 'A151']\n",
      "housing :  [1 2 0]\n",
      "job :  ['A173' 'A172' 'A174' 'A171']\n",
      "job :  [2 1 3 0]\n",
      "telephone :  ['A192' 'A191']\n",
      "telephone :  [1 0]\n",
      "foreignworker :  ['A201' 'A202']\n",
      "foreignworker :  [0 1]\n"
     ]
    }
   ],
   "source": [
    "from collections import defaultdict\n",
    "\n",
    "#categorical variables labels\n",
    "catvars = ['existingchecking', 'credithistory', 'purpose', 'savings', 'employmentsince',\n",
    "           'statussex', 'otherdebtors', 'property', 'otherinstallmentplans', 'housing', 'job', \n",
    "           'telephone', 'foreignworker']\n",
    "\n",
    "d = defaultdict(LabelEncoder)\n",
    "\n",
    "# Encoding the variable\n",
    "lecatdata = data[catvars].apply(lambda x: d[x.name].fit_transform(x))\n",
    "\n",
    "# print transformations\n",
    "for x in range(len(catvars)):\n",
    "    print(catvars[x],\": \", data[catvars[x]].unique())\n",
    "    print(catvars[x],\": \", lecatdata[catvars[x]].unique())\n",
    "\n",
    "#One hot encoding, create dummy variables for every category of every categorical variable\n",
    "dummyvars = pd.get_dummies(data[catvars])"
   ]
  },
  {
   "cell_type": "markdown",
   "metadata": {
    "_uuid": "6a15498bdd45a6b2d0c88edbe3059744294396c6",
    "id": "R3OBrifU4Zpb"
   },
   "source": [
    "### Concate Transformed Dataset\n",
    "append the dummy variable of the initial numerical variables numvars# append "
   ]
  },
  {
   "cell_type": "code",
   "execution_count": 56,
   "metadata": {
    "_uuid": "50738e0e4b89a8facc7c73581661f3110427d8e9",
    "executionInfo": {
     "elapsed": 638,
     "status": "ok",
     "timestamp": 1531189111653,
     "user": {
      "displayName": "M Hendra Herviawan",
      "photoUrl": "https://lh3.googleusercontent.com/a/default-user=s128",
      "userId": "116685199798904688878"
     },
     "user_tz": -420
    },
    "id": "jkncbC1M4ZzD",
    "outputId": "4b596160-48a6-40c5-8fd2-2104e3afabe9"
   },
   "outputs": [
    {
     "name": "stdout",
     "output_type": "stream",
     "text": [
      "(1000, 62)\n"
     ]
    }
   ],
   "source": [
    "data_clean = pd.concat([data[numvars], dummyvars], axis = 1)\n",
    "\n",
    "print(data_clean.shape)"
   ]
  },
  {
   "cell_type": "markdown",
   "metadata": {
    "_uuid": "53f8db9397eeb56dae3d735e712b4ba251a36a7b",
    "id": "OI89YwDN4kXI"
   },
   "source": [
    "### Split Training Dataset"
   ]
  },
  {
   "cell_type": "code",
   "execution_count": 57,
   "metadata": {
    "_uuid": "5f1724b5dc93f592481eb1c608553d1c5fad2108",
    "id": "cP6puz7s4hQr"
   },
   "outputs": [],
   "source": [
    "# Unscaled, unnormalized data\n",
    "X_clean = data_clean.drop('classification', axis=1)\n",
    "y_clean = data_clean['classification']\n",
    "X_train_clean, X_test_clean, y_train_clean, y_test_clean = train_test_split(X_clean,y_clean,test_size=0.2, random_state=1)"
   ]
  },
  {
   "cell_type": "code",
   "execution_count": 58,
   "metadata": {
    "_uuid": "900557195bd519524bb3d46fb6b3d8d7344692dc",
    "executionInfo": {
     "elapsed": 708,
     "status": "ok",
     "timestamp": 1531189113358,
     "user": {
      "displayName": "M Hendra Herviawan",
      "photoUrl": "https://lh3.googleusercontent.com/a/default-user=s128",
      "userId": "116685199798904688878"
     },
     "user_tz": -420
    },
    "id": "MkEfVz7rgssR",
    "outputId": "2545c4f2-9d69-4d50-dc1c-82525586f013"
   },
   "outputs": [
    {
     "data": {
      "text/plain": [
       "Index(['creditamount', 'duration', 'installmentrate', 'residencesince', 'age',\n",
       "       'existingcredits', 'peopleliable', 'existingchecking_A11',\n",
       "       'existingchecking_A12', 'existingchecking_A13', 'existingchecking_A14',\n",
       "       'credithistory_A30', 'credithistory_A31', 'credithistory_A32',\n",
       "       'credithistory_A33', 'credithistory_A34', 'purpose_A40', 'purpose_A41',\n",
       "       'purpose_A410', 'purpose_A42', 'purpose_A43', 'purpose_A44',\n",
       "       'purpose_A45', 'purpose_A46', 'purpose_A48', 'purpose_A49',\n",
       "       'savings_A61', 'savings_A62', 'savings_A63', 'savings_A64',\n",
       "       'savings_A65', 'employmentsince_A71', 'employmentsince_A72',\n",
       "       'employmentsince_A73', 'employmentsince_A74', 'employmentsince_A75',\n",
       "       'statussex_A91', 'statussex_A92', 'statussex_A93', 'statussex_A94',\n",
       "       'otherdebtors_A101', 'otherdebtors_A102', 'otherdebtors_A103',\n",
       "       'property_A121', 'property_A122', 'property_A123', 'property_A124',\n",
       "       'otherinstallmentplans_A141', 'otherinstallmentplans_A142',\n",
       "       'otherinstallmentplans_A143', 'housing_A151', 'housing_A152',\n",
       "       'housing_A153', 'job_A171', 'job_A172', 'job_A173', 'job_A174',\n",
       "       'telephone_A191', 'telephone_A192', 'foreignworker_A201',\n",
       "       'foreignworker_A202'],\n",
       "      dtype='object')"
      ]
     },
     "execution_count": 58,
     "metadata": {},
     "output_type": "execute_result"
    }
   ],
   "source": [
    "X_train_clean.keys()"
   ]
  },
  {
   "cell_type": "markdown",
   "metadata": {
    "_uuid": "924ad3aaf8f771939fafab52352598b158d4d9bb",
    "id": "3LRHY79JAlbF"
   },
   "source": [
    "### XGBoost  1a: Unbalance Dataset (Base Model: ROC_AUC:0.74)"
   ]
  },
  {
   "cell_type": "code",
   "execution_count": 59,
   "metadata": {
    "_uuid": "03740b4aa1ec34f7874001fe00f36496a607050b",
    "executionInfo": {
     "elapsed": 1831,
     "status": "ok",
     "timestamp": 1531192485583,
     "user": {
      "displayName": "M Hendra Herviawan",
      "photoUrl": "https://lh3.googleusercontent.com/a/default-user=s128",
      "userId": "116685199798904688878"
     },
     "user_tz": -420
    },
    "id": "trS6OdaaEoKL",
    "outputId": "38c94f83-752e-4e6d-8439-b42692b6f9f1"
   },
   "outputs": [
    {
     "name": "stdout",
     "output_type": "stream",
     "text": [
      "[0]\tvalidation_0-auc:0.761589\tvalidation_1-auc:0.692451\n",
      "Multiple eval metrics have been passed: 'validation_1-auc' will be used for early stopping.\n",
      "\n",
      "Will train until validation_1-auc hasn't improved in 100 rounds.\n",
      "[99]\tvalidation_0-auc:0.947201\tvalidation_1-auc:0.735064\n",
      "[[ 24  35]\n",
      " [ 13 128]]\n",
      "              precision    recall  f1-score   support\n",
      "\n",
      "           0       0.65      0.41      0.50        59\n",
      "           1       0.79      0.91      0.84       141\n",
      "\n",
      "    accuracy                           0.76       200\n",
      "   macro avg       0.72      0.66      0.67       200\n",
      "weighted avg       0.74      0.76      0.74       200\n",
      "\n",
      "\n",
      "\n",
      "Model Final Generalization Accuracy: 0.760000\n"
     ]
    },
    {
     "data": {
      "image/png": "[encoded data removed]",
      "text/plain": [
       "<Figure size 432x288 with 1 Axes>"
      ]
     },
     "metadata": {},
     "output_type": "display_data"
    },
    {
     "data": {
      "text/plain": [
       "XGBClassifier(base_score=0.5, booster='gbtree', colsample_bylevel=1,\n",
       "              colsample_bytree=1, gamma=0, learning_rate=0.1, max_delta_step=0,\n",
       "              max_depth=3, min_child_weight=1, missing=None, n_estimators=51,\n",
       "              n_jobs=1, nthread=None, objective='binary:logistic',\n",
       "              random_state=0, reg_alpha=0, reg_lambda=1, scale_pos_weight=1,\n",
       "              seed=None, silent=True, subsample=1)"
      ]
     },
     "execution_count": 59,
     "metadata": {},
     "output_type": "execute_result"
    }
   ],
   "source": [
    "params={}\n",
    "xgbclf(params, X_train_clean, y_train_clean, X_test_clean, y_test_clean)"
   ]
  },
  {
   "cell_type": "markdown",
   "metadata": {
    "_uuid": "10ebb57456ac4233b77b1ad284c15984aee73a1c"
   },
   "source": [
    "### XGBoost  1b: Unbalance Dataset (ROC_AUC:0.79)"
   ]
  },
  {
   "cell_type": "code",
   "execution_count": 60,
   "metadata": {
    "_uuid": "9b27e5641d57347d244ebc33a634c35a3a8e0947"
   },
   "outputs": [
    {
     "name": "stdout",
     "output_type": "stream",
     "text": [
      "[0]\tvalidation_0-auc:0.716102\tvalidation_1-auc:0.621529\n",
      "Multiple eval metrics have been passed: 'validation_1-auc' will be used for early stopping.\n",
      "\n",
      "Will train until validation_1-auc hasn't improved in 100 rounds.\n",
      "[100]\tvalidation_0-auc:0.895033\tvalidation_1-auc:0.781945\n",
      "Stopping. Best iteration:\n",
      "[44]\tvalidation_0-auc:0.886052\tvalidation_1-auc:0.789398\n",
      "\n",
      "[[ 20  39]\n",
      " [ 10 131]]\n",
      "              precision    recall  f1-score   support\n",
      "\n",
      "           0       0.67      0.34      0.45        59\n",
      "           1       0.77      0.93      0.84       141\n",
      "\n",
      "    accuracy                           0.76       200\n",
      "   macro avg       0.72      0.63      0.65       200\n",
      "weighted avg       0.74      0.76      0.73       200\n",
      "\n",
      "\n",
      "\n",
      "Model Final Generalization Accuracy: 0.755000\n"
     ]
    },
    {
     "data": {
      "image/png": "[encoded data removed]",
      "text/plain": [
       "<Figure size 432x288 with 1 Axes>"
      ]
     },
     "metadata": {},
     "output_type": "display_data"
    },
    {
     "data": {
      "text/plain": [
       "XGBClassifier(base_score=0.5, booster='gbtree', colsample_bylevel=1,\n",
       "              colsample_bytree=0.7, gamma=0, learning_rate=0.005,\n",
       "              max_delta_step=0, max_depth=8, min_child_weight=3, missing=None,\n",
       "              n_estimators=45, n_jobs=-1, nthread=None,\n",
       "              objective='binary:logistic', random_state=0, reg_alpha=0,\n",
       "              reg_lambda=1, scale_pos_weight=1, seed=None, silent=True,\n",
       "              subsample=0.555)"
      ]
     },
     "execution_count": 60,
     "metadata": {},
     "output_type": "execute_result"
    }
   ],
   "source": [
    "params={}\n",
    "\n",
    "params1={\n",
    "    'n_estimators':3000,\n",
    "    'objective': 'binary:logistic',\n",
    "    'learning_rate': 0.05,\n",
    "    'gamma':0.1,\n",
    "    'subsample':0.8,\n",
    "    'colsample_bytree':0.3,\n",
    "    'min_child_weight':3,\n",
    "    'max_depth':3,\n",
    "    #'seed':1024,\n",
    "    'n_jobs' : -1\n",
    "}\n",
    "\n",
    "params2={\n",
    "    'n_estimators':3000,\n",
    "    'objective': 'binary:logistic',\n",
    "    'learning_rate': 0.005,\n",
    "    #'gamma':0.01,\n",
    "    'subsample':0.555,\n",
    "    'colsample_bytree':0.7,\n",
    "    'min_child_weight':3,\n",
    "    'max_depth':8,\n",
    "    #'seed':1024,\n",
    "    'n_jobs' : -1\n",
    "}\n",
    "\n",
    "xgbclf(params2, X_train_clean, y_train_clean, X_test_clean, y_test_clean)"
   ]
  },
  {
   "cell_type": "markdown",
   "metadata": {
    "_uuid": "b14d322c24858a4b4ec4656bd96eb3a1843802e1",
    "id": "bFxEnRYVD_Xe"
   },
   "source": [
    "<a id=\"Balanced Dataset\"></a> <br>\n",
    "# **3. Balanced Dataset** \n",
    "- XGBoost 2a: Balanced (Base Model: ROC_AUC:0.77)\n",
    "- XGBoost 2b: Balanced (ROC_AUC:0.80)"
   ]
  },
  {
   "cell_type": "code",
   "execution_count": 61,
   "metadata": {
    "_uuid": "bfba5a9de83536e8ee9635d98339dfd33b7d657a",
    "executionInfo": {
     "elapsed": 664,
     "status": "ok",
     "timestamp": 1531189121767,
     "user": {
      "displayName": "M Hendra Herviawan",
      "photoUrl": "https://lh3.googleusercontent.com/a/default-user=s128",
      "userId": "116685199798904688878"
     },
     "user_tz": -420
    },
    "id": "5NEgnXdM1U0J",
    "outputId": "d3404eb4-ed88-46ea-ab18-60b259a22ed2"
   },
   "outputs": [
    {
     "name": "stdout",
     "output_type": "stream",
     "text": [
      "Before/After clean\n",
      "{0: 241, 1: 559}\n",
      "{0: 559, 1: 559}\n"
     ]
    }
   ],
   "source": [
    "\n",
    "from imblearn.over_sampling import SMOTE\n",
    "\n",
    "# Oversampling\n",
    "# http://contrib.scikit-learn.org/imbalanced-learn/auto_examples/combine/plot_smote_enn.html#sphx-glr-auto-examples-combine-plot-smote-enn-py\n",
    "\n",
    "# Apply SMOTE\n",
    "sm = SMOTE(sampling_strategy='auto')\n",
    "X_train_clean_res, y_train_clean_res = sm.fit_sample(X_train_clean, y_train_clean)\n",
    "\n",
    "# Print number of 'good' credits and 'bad credits, should be fairly balanced now\n",
    "print(\"Before/After clean\")\n",
    "unique, counts = np.unique(y_train_clean, return_counts=True)\n",
    "print(dict(zip(unique, counts)))\n",
    "unique, counts = np.unique(y_train_clean_res, return_counts=True)\n",
    "print(dict(zip(unique, counts)))"
   ]
  },
  {
   "cell_type": "code",
   "execution_count": 62,
   "metadata": {
    "_uuid": "b8a7a3c79685af31aecb2ade360415f92a30460b",
    "id": "h2-muneU1U9H"
   },
   "outputs": [],
   "source": [
    "#Great, before we do anything else, let's split the data into train/test.\n",
    "X_train_clean_res = pd.DataFrame(X_train_clean_res, columns=X_train_clean.keys())\n",
    "#y_train_clean_res = pd.DataFrame(y_train_clean_res)"
   ]
  },
  {
   "cell_type": "code",
   "execution_count": 63,
   "metadata": {
    "_uuid": "3a8b147901159dc4ac09fa2efd4d5d9578f97b99",
    "executionInfo": {
     "elapsed": 695,
     "status": "ok",
     "timestamp": 1531189123494,
     "user": {
      "displayName": "M Hendra Herviawan",
      "photoUrl": "https://lh3.googleusercontent.com/a/default-user=s128",
      "userId": "116685199798904688878"
     },
     "user_tz": -420
    },
    "id": "C-yIxVQkUZyW",
    "outputId": "ae623e97-04e8-4417-8311-3da47f9b94e3"
   },
   "outputs": [
    {
     "name": "stdout",
     "output_type": "stream",
     "text": [
      "(1118, 61)\n",
      "(1118,)\n",
      "(200, 61)\n",
      "(200,)\n"
     ]
    }
   ],
   "source": [
    "print(np.shape(X_train_clean_res))\n",
    "print(np.shape(y_train_clean_res))\n",
    "print(np.shape(X_test_clean)) \n",
    "print(np.shape(y_test_clean))"
   ]
  },
  {
   "cell_type": "markdown",
   "metadata": {
    "_uuid": "04626b0c29b5a77a013fedfee30b55b4d92b684b"
   },
   "source": [
    "### XGBoost 2a: Balanced (Base Model: ROC_AUC:0.77)"
   ]
  },
  {
   "cell_type": "code",
   "execution_count": 64,
   "metadata": {
    "_uuid": "ca524e248c28f147289605a30f68b11ecabe4559",
    "executionInfo": {
     "elapsed": 1321,
     "status": "ok",
     "timestamp": 1531189328790,
     "user": {
      "displayName": "M Hendra Herviawan",
      "photoUrl": "https://lh3.googleusercontent.com/a/default-user=s128",
      "userId": "116685199798904688878"
     },
     "user_tz": -420
    },
    "id": "NQ5P5oG0IwIS",
    "outputId": "3f402469-f7d9-496d-e772-059ef4ef0aec"
   },
   "outputs": [
    {
     "name": "stdout",
     "output_type": "stream",
     "text": [
      "[0]\tvalidation_0-auc:0.817006\tvalidation_1-auc:0.690468\n",
      "Multiple eval metrics have been passed: 'validation_1-auc' will be used for early stopping.\n",
      "\n",
      "Will train until validation_1-auc hasn't improved in 100 rounds.\n",
      "[99]\tvalidation_0-auc:0.973355\tvalidation_1-auc:0.754297\n",
      "[[ 31  28]\n",
      " [ 27 114]]\n",
      "              precision    recall  f1-score   support\n",
      "\n",
      "           0       0.53      0.53      0.53        59\n",
      "           1       0.80      0.81      0.81       141\n",
      "\n",
      "    accuracy                           0.73       200\n",
      "   macro avg       0.67      0.67      0.67       200\n",
      "weighted avg       0.72      0.72      0.72       200\n",
      "\n",
      "\n",
      "\n",
      "Model Final Generalization Accuracy: 0.725000\n"
     ]
    },
    {
     "data": {
      "image/png": "[encoded data removed]",
      "text/plain": [
       "<Figure size 432x288 with 1 Axes>"
      ]
     },
     "metadata": {},
     "output_type": "display_data"
    },
    {
     "data": {
      "text/plain": [
       "XGBClassifier(base_score=0.5, booster='gbtree', colsample_bylevel=1,\n",
       "              colsample_bytree=1, gamma=0, learning_rate=0.1, max_delta_step=0,\n",
       "              max_depth=3, min_child_weight=1, missing=None, n_estimators=32,\n",
       "              n_jobs=1, nthread=None, objective='binary:logistic',\n",
       "              random_state=0, reg_alpha=0, reg_lambda=1, scale_pos_weight=1,\n",
       "              seed=None, silent=True, subsample=1)"
      ]
     },
     "execution_count": 64,
     "metadata": {},
     "output_type": "execute_result"
    }
   ],
   "source": [
    "#BASE MODEL\n",
    "params={}\n",
    "xgbclf(params,X_train_clean_res, y_train_clean_res,X_test_clean, y_test_clean)"
   ]
  },
  {
   "cell_type": "markdown",
   "metadata": {
    "_uuid": "71a3040a7d73bfa3aba166e10d804f9257d8bde8",
    "id": "RjlSw9En1P4p"
   },
   "source": [
    "### XGBoost 2b: Balanced (ROC_AUC:0.80)"
   ]
  },
  {
   "cell_type": "code",
   "execution_count": 65,
   "metadata": {
    "_uuid": "11855f908fb13b97d120ea375c75ab13885d9e43",
    "executionInfo": {
     "elapsed": 2539,
     "status": "ok",
     "timestamp": 1531192901612,
     "user": {
      "displayName": "M Hendra Herviawan",
      "photoUrl": "https://lh3.googleusercontent.com/a/default-user=s128",
      "userId": "116685199798904688878"
     },
     "user_tz": -420
    },
    "id": "x9PHpLlJoNFz",
    "outputId": "ed2910d2-4508-49d9-d1be-575c07625fb6"
   },
   "outputs": [
    {
     "name": "stdout",
     "output_type": "stream",
     "text": [
      "[0]\tvalidation_0-auc:0.893928\tvalidation_1-auc:0.661919\n",
      "Multiple eval metrics have been passed: 'validation_1-auc' will be used for early stopping.\n",
      "\n",
      "Will train until validation_1-auc hasn't improved in 100 rounds.\n",
      "[100]\tvalidation_0-auc:0.950519\tvalidation_1-auc:0.786393\n",
      "Stopping. Best iteration:\n",
      "[55]\tvalidation_0-auc:0.944515\tvalidation_1-auc:0.788316\n",
      "\n",
      "[[ 33  26]\n",
      " [ 17 124]]\n",
      "              precision    recall  f1-score   support\n",
      "\n",
      "           0       0.66      0.56      0.61        59\n",
      "           1       0.83      0.88      0.85       141\n",
      "\n",
      "    accuracy                           0.79       200\n",
      "   macro avg       0.74      0.72      0.73       200\n",
      "weighted avg       0.78      0.79      0.78       200\n",
      "\n",
      "\n",
      "\n",
      "Model Final Generalization Accuracy: 0.785000\n"
     ]
    },
    {
     "data": {
      "image/png": "[encoded data removed]",
      "text/plain": [
       "<Figure size 432x288 with 1 Axes>"
      ]
     },
     "metadata": {},
     "output_type": "display_data"
    },
    {
     "data": {
      "text/plain": [
       "XGBClassifier(base_score=0.5, booster='gbtree', colsample_bylevel=1,\n",
       "              colsample_bytree=0.7, gamma=0, learning_rate=0.005,\n",
       "              max_delta_step=0, max_depth=8, min_child_weight=3, missing=None,\n",
       "              n_estimators=56, n_jobs=-1, nthread=None,\n",
       "              objective='binary:logistic', random_state=0, reg_alpha=0,\n",
       "              reg_lambda=1, scale_pos_weight=1, seed=None, silent=True,\n",
       "              subsample=0.555)"
      ]
     },
     "execution_count": 65,
     "metadata": {},
     "output_type": "execute_result"
    }
   ],
   "source": [
    "params = {}\n",
    "\n",
    "params1={\n",
    "    'n_estimators':3000,\n",
    "    'objective': 'binary:logistic',\n",
    "    'learning_rate': 0.05,\n",
    "    'gamma':0.1,\n",
    "    'subsample':0.8,\n",
    "    'colsample_bytree':0.3,\n",
    "    'min_child_weight':3,\n",
    "    'max_depth':3,\n",
    "    #'seed':1024,\n",
    "    'n_jobs' : -1\n",
    "}\n",
    "\n",
    "params2={\n",
    "    'n_estimators':3000,\n",
    "    'objective': 'binary:logistic',\n",
    "    'learning_rate': 0.005,\n",
    "    #'gamma':0.01,\n",
    "    'subsample':0.555,\n",
    "    'colsample_bytree':0.7,\n",
    "    'min_child_weight':3,\n",
    "    'max_depth':8,\n",
    "    #'seed':1024,\n",
    "    'n_jobs' : -1\n",
    "}\n",
    "\n",
    "#xgbclf(params, X_train, y_train,X_test,y_test)\n",
    "model = xgbclf(params2,X_train_clean_res, y_train_clean_res,X_test_clean, y_test_clean)\n",
    "model\n",
    "#plot_featureImportance(model, X_train_clean_res.keys())"
   ]
  },
  {
   "cell_type": "markdown",
   "metadata": {
    "_uuid": "518227609cbeb12fa67390bd5a097ddc7bd2f71a",
    "id": "T0uGUXyUa4h_"
   },
   "source": [
    "# 4.  Feature Selection\n",
    "- XGBoost3 (Base Model:ROC_AUC:0.73)\n",
    "- GridSearchCV (ROC_AUC:0.70)"
   ]
  },
  {
   "cell_type": "code",
   "execution_count": 67,
   "metadata": {
    "_uuid": "c9da497ba8de093a285cf4ffbec4535219c74466",
    "id": "vOISYxySN4qJ"
   },
   "outputs": [],
   "source": [
    "#model = xgbclf(params1,X_train_clean_res[importance_col], y_train_clean_res,X_test_clean[importance_col], y_test_clean)\n",
    "\n",
    "importances = model.feature_importances_\n",
    "importance_frame = pd.DataFrame({'Importance': list(importances), 'Feature': list(X_train_clean_res.keys())})\n",
    "importance_frame.sort_values(by = 'Importance', inplace = True, ascending=False)\n",
    "importance_col = importance_frame.Feature.head(10).values\n"
   ]
  },
  {
   "cell_type": "code",
   "execution_count": 111,
   "metadata": {},
   "outputs": [
    {
     "data": {
      "text/html": [
       "<div>\n",
       "<style scoped>\n",
       "    .dataframe tbody tr th:only-of-type {\n",
       "        vertical-align: middle;\n",
       "    }\n",
       "\n",
       "    .dataframe tbody tr th {\n",
       "        vertical-align: top;\n",
       "    }\n",
       "\n",
       "    .dataframe thead th {\n",
       "        text-align: right;\n",
       "    }\n",
       "</style>\n",
       "<table border=\"1\" class=\"dataframe\">\n",
       "  <thead>\n",
       "    <tr style=\"text-align: right;\">\n",
       "      <th></th>\n",
       "      <th>parent</th>\n",
       "      <th>Importance</th>\n",
       "    </tr>\n",
       "  </thead>\n",
       "  <tbody>\n",
       "    <tr>\n",
       "      <th>1</th>\n",
       "      <td>creditamount</td>\n",
       "      <td>0.136060</td>\n",
       "    </tr>\n",
       "    <tr>\n",
       "      <th>5</th>\n",
       "      <td>existingchecking</td>\n",
       "      <td>0.100167</td>\n",
       "    </tr>\n",
       "    <tr>\n",
       "      <th>2</th>\n",
       "      <td>credithistory</td>\n",
       "      <td>0.096828</td>\n",
       "    </tr>\n",
       "    <tr>\n",
       "      <th>3</th>\n",
       "      <td>duration</td>\n",
       "      <td>0.096828</td>\n",
       "    </tr>\n",
       "    <tr>\n",
       "      <th>0</th>\n",
       "      <td>age</td>\n",
       "      <td>0.091820</td>\n",
       "    </tr>\n",
       "    <tr>\n",
       "      <th>18</th>\n",
       "      <td>statussex</td>\n",
       "      <td>0.056761</td>\n",
       "    </tr>\n",
       "    <tr>\n",
       "      <th>15</th>\n",
       "      <td>purpose</td>\n",
       "      <td>0.052588</td>\n",
       "    </tr>\n",
       "    <tr>\n",
       "      <th>14</th>\n",
       "      <td>property</td>\n",
       "      <td>0.050918</td>\n",
       "    </tr>\n",
       "    <tr>\n",
       "      <th>12</th>\n",
       "      <td>otherinstallmentplans</td>\n",
       "      <td>0.048414</td>\n",
       "    </tr>\n",
       "    <tr>\n",
       "      <th>4</th>\n",
       "      <td>employmentsince</td>\n",
       "      <td>0.045075</td>\n",
       "    </tr>\n",
       "    <tr>\n",
       "      <th>8</th>\n",
       "      <td>housing</td>\n",
       "      <td>0.040902</td>\n",
       "    </tr>\n",
       "    <tr>\n",
       "      <th>17</th>\n",
       "      <td>savings</td>\n",
       "      <td>0.037563</td>\n",
       "    </tr>\n",
       "    <tr>\n",
       "      <th>10</th>\n",
       "      <td>job</td>\n",
       "      <td>0.037563</td>\n",
       "    </tr>\n",
       "    <tr>\n",
       "      <th>16</th>\n",
       "      <td>residencesince</td>\n",
       "      <td>0.032554</td>\n",
       "    </tr>\n",
       "    <tr>\n",
       "      <th>19</th>\n",
       "      <td>telephone</td>\n",
       "      <td>0.027546</td>\n",
       "    </tr>\n",
       "    <tr>\n",
       "      <th>9</th>\n",
       "      <td>installmentrate</td>\n",
       "      <td>0.025042</td>\n",
       "    </tr>\n",
       "    <tr>\n",
       "      <th>6</th>\n",
       "      <td>existingcredits</td>\n",
       "      <td>0.011686</td>\n",
       "    </tr>\n",
       "    <tr>\n",
       "      <th>13</th>\n",
       "      <td>peopleliable</td>\n",
       "      <td>0.006678</td>\n",
       "    </tr>\n",
       "    <tr>\n",
       "      <th>11</th>\n",
       "      <td>otherdebtors</td>\n",
       "      <td>0.005008</td>\n",
       "    </tr>\n",
       "    <tr>\n",
       "      <th>7</th>\n",
       "      <td>foreignworker</td>\n",
       "      <td>0.000000</td>\n",
       "    </tr>\n",
       "  </tbody>\n",
       "</table>\n",
       "</div>"
      ],
      "text/plain": [
       "                   parent  Importance\n",
       "1            creditamount    0.136060\n",
       "5        existingchecking    0.100167\n",
       "2           credithistory    0.096828\n",
       "3                duration    0.096828\n",
       "0                     age    0.091820\n",
       "18              statussex    0.056761\n",
       "15                purpose    0.052588\n",
       "14               property    0.050918\n",
       "12  otherinstallmentplans    0.048414\n",
       "4         employmentsince    0.045075\n",
       "8                 housing    0.040902\n",
       "17                savings    0.037563\n",
       "10                    job    0.037563\n",
       "16         residencesince    0.032554\n",
       "19              telephone    0.027546\n",
       "9         installmentrate    0.025042\n",
       "6         existingcredits    0.011686\n",
       "13           peopleliable    0.006678\n",
       "11           otherdebtors    0.005008\n",
       "7           foreignworker    0.000000"
      ]
     },
     "execution_count": 111,
     "metadata": {},
     "output_type": "execute_result"
    }
   ],
   "source": [
    "importance_frame['parent'] = importance_frame['Feature'].apply(lambda x: x.split(\"_\")[0])\n",
    "total = importance_frame.groupby(\"parent\")['Importance'].sum().reset_index()\n",
    "total.sort_values('Importance', ascending = False, inplace = True)\n",
    "topfeatures = list(total.parent[:10])\n",
    "topfeatures.append('classification')\n",
    "topfeatures.append('job')\n",
    "topfeatures.remove('otherinstallmentplans')\n",
    "total"
   ]
  },
  {
   "cell_type": "code",
   "execution_count": 113,
   "metadata": {},
   "outputs": [
    {
     "data": {
      "text/plain": [
       "['creditamount',\n",
       " 'existingchecking',\n",
       " 'credithistory',\n",
       " 'duration',\n",
       " 'age',\n",
       " 'statussex',\n",
       " 'purpose',\n",
       " 'property',\n",
       " 'employmentsince',\n",
       " 'classification',\n",
       " 'job']"
      ]
     },
     "execution_count": 113,
     "metadata": {},
     "output_type": "execute_result"
    }
   ],
   "source": [
    "topfeatures"
   ]
  },
  {
   "cell_type": "markdown",
   "metadata": {},
   "source": [
    "# Cases Generation"
   ]
  },
  {
   "cell_type": "markdown",
   "metadata": {},
   "source": [
    "### 1 good credit     0: Bad Credit"
   ]
  },
  {
   "cell_type": "code",
   "execution_count": 112,
   "metadata": {},
   "outputs": [
    {
     "data": {
      "text/html": [
       "<div>\n",
       "<style scoped>\n",
       "    .dataframe tbody tr th:only-of-type {\n",
       "        vertical-align: middle;\n",
       "    }\n",
       "\n",
       "    .dataframe tbody tr th {\n",
       "        vertical-align: top;\n",
       "    }\n",
       "\n",
       "    .dataframe thead th {\n",
       "        text-align: right;\n",
       "    }\n",
       "</style>\n",
       "<table border=\"1\" class=\"dataframe\">\n",
       "  <thead>\n",
       "    <tr style=\"text-align: right;\">\n",
       "      <th></th>\n",
       "      <th>creditamount</th>\n",
       "      <th>existingchecking</th>\n",
       "      <th>credithistory</th>\n",
       "      <th>duration</th>\n",
       "      <th>age</th>\n",
       "      <th>statussex</th>\n",
       "      <th>purpose</th>\n",
       "      <th>property</th>\n",
       "      <th>employmentsince</th>\n",
       "      <th>classification</th>\n",
       "      <th>job</th>\n",
       "    </tr>\n",
       "  </thead>\n",
       "  <tbody>\n",
       "    <tr>\n",
       "      <th>769</th>\n",
       "      <td>1655</td>\n",
       "      <td>A14</td>\n",
       "      <td>A34</td>\n",
       "      <td>12</td>\n",
       "      <td>63</td>\n",
       "      <td>A93</td>\n",
       "      <td>A43</td>\n",
       "      <td>A121</td>\n",
       "      <td>A75</td>\n",
       "      <td>1</td>\n",
       "      <td>A172</td>\n",
       "    </tr>\n",
       "    <tr>\n",
       "      <th>108</th>\n",
       "      <td>7721</td>\n",
       "      <td>A11</td>\n",
       "      <td>A32</td>\n",
       "      <td>24</td>\n",
       "      <td>30</td>\n",
       "      <td>A92</td>\n",
       "      <td>A42</td>\n",
       "      <td>A122</td>\n",
       "      <td>A72</td>\n",
       "      <td>1</td>\n",
       "      <td>A173</td>\n",
       "    </tr>\n",
       "    <tr>\n",
       "      <th>571</th>\n",
       "      <td>5954</td>\n",
       "      <td>A14</td>\n",
       "      <td>A34</td>\n",
       "      <td>30</td>\n",
       "      <td>38</td>\n",
       "      <td>A93</td>\n",
       "      <td>A43</td>\n",
       "      <td>A123</td>\n",
       "      <td>A74</td>\n",
       "      <td>1</td>\n",
       "      <td>A173</td>\n",
       "    </tr>\n",
       "    <tr>\n",
       "      <th>360</th>\n",
       "      <td>1239</td>\n",
       "      <td>A12</td>\n",
       "      <td>A32</td>\n",
       "      <td>18</td>\n",
       "      <td>61</td>\n",
       "      <td>A93</td>\n",
       "      <td>A46</td>\n",
       "      <td>A124</td>\n",
       "      <td>A73</td>\n",
       "      <td>1</td>\n",
       "      <td>A173</td>\n",
       "    </tr>\n",
       "    <tr>\n",
       "      <th>968</th>\n",
       "      <td>7166</td>\n",
       "      <td>A14</td>\n",
       "      <td>A32</td>\n",
       "      <td>42</td>\n",
       "      <td>29</td>\n",
       "      <td>A94</td>\n",
       "      <td>A43</td>\n",
       "      <td>A122</td>\n",
       "      <td>A74</td>\n",
       "      <td>1</td>\n",
       "      <td>A173</td>\n",
       "    </tr>\n",
       "    <tr>\n",
       "      <th>138</th>\n",
       "      <td>2728</td>\n",
       "      <td>A12</td>\n",
       "      <td>A34</td>\n",
       "      <td>15</td>\n",
       "      <td>35</td>\n",
       "      <td>A93</td>\n",
       "      <td>A43</td>\n",
       "      <td>A121</td>\n",
       "      <td>A74</td>\n",
       "      <td>1</td>\n",
       "      <td>A173</td>\n",
       "    </tr>\n",
       "    <tr>\n",
       "      <th>845</th>\n",
       "      <td>3976</td>\n",
       "      <td>A12</td>\n",
       "      <td>A32</td>\n",
       "      <td>21</td>\n",
       "      <td>35</td>\n",
       "      <td>A93</td>\n",
       "      <td>A42</td>\n",
       "      <td>A123</td>\n",
       "      <td>A74</td>\n",
       "      <td>1</td>\n",
       "      <td>A173</td>\n",
       "    </tr>\n",
       "    <tr>\n",
       "      <th>326</th>\n",
       "      <td>5801</td>\n",
       "      <td>A14</td>\n",
       "      <td>A34</td>\n",
       "      <td>12</td>\n",
       "      <td>49</td>\n",
       "      <td>A93</td>\n",
       "      <td>A42</td>\n",
       "      <td>A122</td>\n",
       "      <td>A75</td>\n",
       "      <td>1</td>\n",
       "      <td>A173</td>\n",
       "    </tr>\n",
       "    <tr>\n",
       "      <th>545</th>\n",
       "      <td>1333</td>\n",
       "      <td>A11</td>\n",
       "      <td>A33</td>\n",
       "      <td>24</td>\n",
       "      <td>43</td>\n",
       "      <td>A93</td>\n",
       "      <td>A40</td>\n",
       "      <td>A121</td>\n",
       "      <td>A71</td>\n",
       "      <td>0</td>\n",
       "      <td>A173</td>\n",
       "    </tr>\n",
       "    <tr>\n",
       "      <th>85</th>\n",
       "      <td>1412</td>\n",
       "      <td>A14</td>\n",
       "      <td>A34</td>\n",
       "      <td>12</td>\n",
       "      <td>29</td>\n",
       "      <td>A92</td>\n",
       "      <td>A49</td>\n",
       "      <td>A121</td>\n",
       "      <td>A73</td>\n",
       "      <td>1</td>\n",
       "      <td>A174</td>\n",
       "    </tr>\n",
       "  </tbody>\n",
       "</table>\n",
       "</div>"
      ],
      "text/plain": [
       "     creditamount existingchecking credithistory  duration  age statussex  \\\n",
       "769          1655              A14           A34        12   63       A93   \n",
       "108          7721              A11           A32        24   30       A92   \n",
       "571          5954              A14           A34        30   38       A93   \n",
       "360          1239              A12           A32        18   61       A93   \n",
       "968          7166              A14           A32        42   29       A94   \n",
       "138          2728              A12           A34        15   35       A93   \n",
       "845          3976              A12           A32        21   35       A93   \n",
       "326          5801              A14           A34        12   49       A93   \n",
       "545          1333              A11           A33        24   43       A93   \n",
       "85           1412              A14           A34        12   29       A92   \n",
       "\n",
       "    purpose property employmentsince  classification   job  \n",
       "769     A43     A121             A75               1  A172  \n",
       "108     A42     A122             A72               1  A173  \n",
       "571     A43     A123             A74               1  A173  \n",
       "360     A46     A124             A73               1  A173  \n",
       "968     A43     A122             A74               1  A173  \n",
       "138     A43     A121             A74               1  A173  \n",
       "845     A42     A123             A74               1  A173  \n",
       "326     A42     A122             A75               1  A173  \n",
       "545     A40     A121             A71               0  A173  \n",
       "85      A49     A121             A73               1  A174  "
      ]
     },
     "execution_count": 112,
     "metadata": {},
     "output_type": "execute_result"
    }
   ],
   "source": [
    "selected_case_index = np.random.randint(1000, size = 10)\n",
    "cases = data.loc[selected_case_index, topfeatures]\n",
    "cases"
   ]
  },
  {
   "cell_type": "code",
   "execution_count": 172,
   "metadata": {},
   "outputs": [],
   "source": [
    "dictionary_definition = {}\n",
    "male_names = ['Karl', 'John','Steve','Philip','Ryan','Greg']\n",
    "female_names = ['Kate','Heather','Carol','Amy','Betty']\n",
    "\n",
    "status_dict = {'A93' : 'Single',\n",
    "              'A92' : 'Divorced/Separated/Married',\n",
    "              'A94' : 'Married/Windowed',\n",
    "              'A91' : 'Divorced',\n",
    "              'A95' : 'Single'} \n",
    "\n",
    "checking_dict = { 'A11': 'Negative balance ',\n",
    "    'A12': 'less than 200 DM ',\n",
    "                 'A13': 'greater than 200 DM for at least one year',\n",
    "                 'A14': 'No checkin account',\n",
    "    }\n",
    "\n",
    "job_dict = { 'A171' : 'unemployed/non-resident',\n",
    "'A172' : 'unskilled - resident',\n",
    "'A173' : 'skilled employee / official',\n",
    "'A174' : 'management/ self-employed/highly qualified employee/ officer'}\n",
    "\n",
    "employment_dict = {\n",
    "    'A71' : 'unemployed',\n",
    "'A72' :  'less than 1 year',\n",
    "'A73' : '1 - 4 years',\n",
    "'A74' : '4 - 7 years',\n",
    "'A75' : 'more than  7 years'}\n",
    "\n",
    "credit_history_dict = {\n",
    "    'A30' : 'no credits taken/ all credits paid back duly',\n",
    "'A31' : 'all credits at this bank paid back',\n",
    "'A32' : 'existing credits paid back duly till now',\n",
    "'A33' : 'delay in paying off in the past',\n",
    "'A34' : 'critical account/ other credits existing (not at this bank)'\n",
    "}\n",
    "\n",
    "property_dict = {\n",
    "'A121' : 'real estate',\n",
    "'A122' : 'if not A121 : building society savings agreement/ life insurance',\n",
    "'A123' : 'if not A121/A122 : car or other',\n",
    "'A124' : 'unknown / no property'\n",
    "}\n",
    "\n",
    "purpose_dict = {\n",
    "'A40' : 'car (new)',\n",
    "'A41' : 'car (used)',\n",
    "'A42' : 'furniture/equipment',\n",
    "'A43' : 'radio/television',\n",
    "'A44' : 'domestic appliances',\n",
    "'A45' : 'repairs',\n",
    "'A46' : 'education',\n",
    "'A47' : 'vacation',\n",
    "'A48' : 'retraining',\n",
    "'A49' : 'business',\n",
    "'A410' : 'others'\n",
    "}\n",
    "\n",
    "\n",
    "col_to_dict = {\n",
    " 'existingchecking': checking_dict,\n",
    " 'credithistory': credit_history_dict,\n",
    " 'statussex': status_dict,\n",
    " 'purpose': purpose_dict,\n",
    " 'property': property_dict,\n",
    " 'employmentsince': employment_dict,\n",
    " 'job': job_dict\n",
    "}"
   ]
  },
  {
   "cell_type": "code",
   "execution_count": 173,
   "metadata": {},
   "outputs": [
    {
     "name": "stdout",
     "output_type": "stream",
     "text": [
      "Steve is requesting a credit 3000 DM for duration of 30 months.\n",
      "He is:\n",
      "1. 23 years old \n",
      "2. Single and Married\n",
      "3. Has an existing bank account with asdasdasdasd money\n",
      "4. Credit history: asdasdasdasd\n",
      "5. Job: sdfffa\n",
      "6. Present Employment since: ddddddd\n",
      "7. Property: asdasd\n",
      "8. Purpose: asdasd\n",
      "\n",
      "Based on the above factors, the bank determined that the above credit request is high risk and denied the credit\n"
     ]
    }
   ],
   "source": [
    "name = 'Steve'\n",
    "age = 23\n",
    "pronoun = 'He'\n",
    "risk = 'high risk'\n",
    "result = 'denied'\n",
    "nl = '\\n'\n",
    "duration = 30\n",
    "property_string = 'asdasd'\n",
    "purpose_string = 'asdasd'\n",
    "job_string = 'sdfffa'\n",
    "employment_string = 'ddddddd'\n",
    "credit_string = 'asdasdasd'\n",
    "checking_string = 'asdasdasdasd'\n",
    "status_string = 'Single and Married'\n",
    "\n",
    "a = f\"\"\"{name} is requesting a credit 3000 DM for duration of {duration} months.\n",
    "{pronoun} is:\n",
    "1. {age} years old \n",
    "2. {status_string}\n",
    "3. Has an existing bank account with {checking_string} money\n",
    "4. Credit history: {checking_string}\n",
    "5. Job: {job_string}\n",
    "6. Present Employment since: {employment_string}\n",
    "7. Property: {property_string}\n",
    "8. Purpose: {purpose_string}\n",
    "\n",
    "Based on the above factors, the bank determined that the above credit request is {risk} and {result} the credit\"\"\"\n",
    "\n",
    "# a.format(name = name, pronoun =  pronoun, nl = nl, age = age,\n",
    "#          result = result, risk = risk)\n",
    "print(a)\n"
   ]
  },
  {
   "cell_type": "code",
   "execution_count": 181,
   "metadata": {},
   "outputs": [],
   "source": [
    "def case_summary(row):\n",
    "#     print(row)\n",
    "    status = row['statussex']\n",
    "    status_string = status_dict[status]\n",
    "    \n",
    "    age = row['age']\n",
    "    if status in ['A91','A93','A94']:\n",
    "        pronoun = 'He'\n",
    "        name = np.random.choice(male_names)\n",
    "\n",
    "    else:\n",
    "        pronoun = 'She'\n",
    "        name = np.random.choice(female_names)\n",
    "\n",
    "    if row['classification'] == 0:\n",
    "        risk = 'high risk'\n",
    "        result = 'denied'\n",
    "    else:\n",
    "        risk = 'low risk'\n",
    "        result = 'approved'\n",
    "    duration = row['duration']\n",
    "    amount = row['creditamount']\n",
    "    property_string = property_dict[row['property']]\n",
    "    purpose_string = purpose_dict[row['purpose']]\n",
    "    job_string = job_dict[row['job']]\n",
    "    property_string = property_dict[row['property']]\n",
    "    employment_string = employment_dict[row['employmentsince']]\n",
    "    credit_string = credit_history_dict[row['credithistory']]\n",
    "    checking_string = checking_dict[row['existingchecking']]\n",
    "    \n",
    "    a = f\"\"\"{name} is requesting a credit {amount} DM for duration of {duration} months.\n",
    "{pronoun} is:\n",
    "1. {age} years old \n",
    "2. Marital Status: {status_string}\n",
    "3. Has an existing bank account with {checking_string}\n",
    "4. Credit history: {credit_string}\n",
    "5. Job: {job_string}\n",
    "6. Present Employment since: {employment_string}\n",
    "7. Property: {property_string}\n",
    "8. Purpose: {purpose_string}\n",
    "\n",
    "Based on the above factors, the bank determined that the above credit request is {risk} and {result} the credit\"\"\"\n",
    "    \n",
    "    print(a)\n",
    "    print()\n",
    "    return a\n"
   ]
  },
  {
   "cell_type": "code",
   "execution_count": 182,
   "metadata": {
    "scrolled": false
   },
   "outputs": [
    {
     "name": "stdout",
     "output_type": "stream",
     "text": [
      "Greg is requesting a credit 1655 DM for duration of 12 months.\n",
      "He is:\n",
      "1. 63 years old \n",
      "2. Marital Status: Single\n",
      "3. Has an existing bank account with No checkin account\n",
      "4. Credit history: critical account/ other credits existing (not at this bank)\n",
      "5. Job: unskilled - resident\n",
      "6. Present Employment since: more than  7 years\n",
      "7. Property: real estate\n",
      "8. Purpose: radio/television\n",
      "\n",
      "Based on the above factors, the bank determined that the above credit request is low risk and approved the credit\n",
      "\n",
      "Carol is requesting a credit 7721 DM for duration of 24 months.\n",
      "She is:\n",
      "1. 30 years old \n",
      "2. Marital Status: Divorced/Separated/Married\n",
      "3. Has an existing bank account with Negative balance \n",
      "4. Credit history: existing credits paid back duly till now\n",
      "5. Job: skilled employee / official\n",
      "6. Present Employment since: less than 1 year\n",
      "7. Property: if not A121 : building society savings agreement/ life insurance\n",
      "8. Purpose: furniture/equipment\n",
      "\n",
      "Based on the above factors, the bank determined that the above credit request is low risk and approved the credit\n",
      "\n",
      "Ryan is requesting a credit 5954 DM for duration of 30 months.\n",
      "He is:\n",
      "1. 38 years old \n",
      "2. Marital Status: Single\n",
      "3. Has an existing bank account with No checkin account\n",
      "4. Credit history: critical account/ other credits existing (not at this bank)\n",
      "5. Job: skilled employee / official\n",
      "6. Present Employment since: 4 - 7 years\n",
      "7. Property: if not A121/A122 : car or other\n",
      "8. Purpose: radio/television\n",
      "\n",
      "Based on the above factors, the bank determined that the above credit request is low risk and approved the credit\n",
      "\n",
      "Steve is requesting a credit 1239 DM for duration of 18 months.\n",
      "He is:\n",
      "1. 61 years old \n",
      "2. Marital Status: Single\n",
      "3. Has an existing bank account with less than 200 DM \n",
      "4. Credit history: existing credits paid back duly till now\n",
      "5. Job: skilled employee / official\n",
      "6. Present Employment since: 1 - 4 years\n",
      "7. Property: unknown / no property\n",
      "8. Purpose: education\n",
      "\n",
      "Based on the above factors, the bank determined that the above credit request is low risk and approved the credit\n",
      "\n",
      "Philip is requesting a credit 7166 DM for duration of 42 months.\n",
      "He is:\n",
      "1. 29 years old \n",
      "2. Marital Status: Married/Windowed\n",
      "3. Has an existing bank account with No checkin account\n",
      "4. Credit history: existing credits paid back duly till now\n",
      "5. Job: skilled employee / official\n",
      "6. Present Employment since: 4 - 7 years\n",
      "7. Property: if not A121 : building society savings agreement/ life insurance\n",
      "8. Purpose: radio/television\n",
      "\n",
      "Based on the above factors, the bank determined that the above credit request is low risk and approved the credit\n",
      "\n",
      "Philip is requesting a credit 2728 DM for duration of 15 months.\n",
      "He is:\n",
      "1. 35 years old \n",
      "2. Marital Status: Single\n",
      "3. Has an existing bank account with less than 200 DM \n",
      "4. Credit history: critical account/ other credits existing (not at this bank)\n",
      "5. Job: skilled employee / official\n",
      "6. Present Employment since: 4 - 7 years\n",
      "7. Property: real estate\n",
      "8. Purpose: radio/television\n",
      "\n",
      "Based on the above factors, the bank determined that the above credit request is low risk and approved the credit\n",
      "\n",
      "John is requesting a credit 3976 DM for duration of 21 months.\n",
      "He is:\n",
      "1. 35 years old \n",
      "2. Marital Status: Single\n",
      "3. Has an existing bank account with less than 200 DM \n",
      "4. Credit history: existing credits paid back duly till now\n",
      "5. Job: skilled employee / official\n",
      "6. Present Employment since: 4 - 7 years\n",
      "7. Property: if not A121/A122 : car or other\n",
      "8. Purpose: furniture/equipment\n",
      "\n",
      "Based on the above factors, the bank determined that the above credit request is low risk and approved the credit\n",
      "\n",
      "Greg is requesting a credit 5801 DM for duration of 12 months.\n",
      "He is:\n",
      "1. 49 years old \n",
      "2. Marital Status: Single\n",
      "3. Has an existing bank account with No checkin account\n",
      "4. Credit history: critical account/ other credits existing (not at this bank)\n",
      "5. Job: skilled employee / official\n",
      "6. Present Employment since: more than  7 years\n",
      "7. Property: if not A121 : building society savings agreement/ life insurance\n",
      "8. Purpose: furniture/equipment\n",
      "\n",
      "Based on the above factors, the bank determined that the above credit request is low risk and approved the credit\n",
      "\n",
      "Ryan is requesting a credit 1333 DM for duration of 24 months.\n",
      "He is:\n",
      "1. 43 years old \n",
      "2. Marital Status: Single\n",
      "3. Has an existing bank account with Negative balance \n",
      "4. Credit history: delay in paying off in the past\n",
      "5. Job: skilled employee / official\n",
      "6. Present Employment since: unemployed\n",
      "7. Property: real estate\n",
      "8. Purpose: car (new)\n",
      "\n",
      "Based on the above factors, the bank determined that the above credit request is high risk and denied the credit\n",
      "\n",
      "Amy is requesting a credit 1412 DM for duration of 12 months.\n",
      "She is:\n",
      "1. 29 years old \n",
      "2. Marital Status: Divorced/Separated/Married\n",
      "3. Has an existing bank account with No checkin account\n",
      "4. Credit history: critical account/ other credits existing (not at this bank)\n",
      "5. Job: management/ self-employed/highly qualified employee/ officer\n",
      "6. Present Employment since: 1 - 4 years\n",
      "7. Property: real estate\n",
      "8. Purpose: business\n",
      "\n",
      "Based on the above factors, the bank determined that the above credit request is low risk and approved the credit\n",
      "\n"
     ]
    },
    {
     "data": {
      "text/plain": [
       "769    Greg is requesting a credit 1655 DM for durati...\n",
       "108    Carol is requesting a credit 7721 DM for durat...\n",
       "571    Ryan is requesting a credit 5954 DM for durati...\n",
       "360    Steve is requesting a credit 1239 DM for durat...\n",
       "968    Philip is requesting a credit 7166 DM for dura...\n",
       "138    Philip is requesting a credit 2728 DM for dura...\n",
       "845    John is requesting a credit 3976 DM for durati...\n",
       "326    Greg is requesting a credit 5801 DM for durati...\n",
       "545    Ryan is requesting a credit 1333 DM for durati...\n",
       "85     Amy is requesting a credit 1412 DM for duratio...\n",
       "dtype: object"
      ]
     },
     "execution_count": 182,
     "metadata": {},
     "output_type": "execute_result"
    }
   ],
   "source": [
    "cases.apply(case_summary, axis = 1)"
   ]
  },
  {
   "cell_type": "code",
   "execution_count": null,
   "metadata": {},
   "outputs": [],
   "source": []
  }
 ],
 "metadata": {
  "colab": {
   "collapsed_sections": [],
   "default_view": {},
   "name": "german-credit_XGB1.ipynb",
   "provenance": [],
   "version": "0.3.2",
   "views": {}
  },
  "kernelspec": {
   "display_name": "Python 3",
   "language": "python",
   "name": "python3"
  },
  "language_info": {
   "codemirror_mode": {
    "name": "ipython",
    "version": 3
   },
   "file_extension": ".py",
   "mimetype": "text/x-python",
   "name": "python",
   "nbconvert_exporter": "python",
   "pygments_lexer": "ipython3",
   "version": "3.7.3"
  }
 },
 "nbformat": 4,
 "nbformat_minor": 4
}
